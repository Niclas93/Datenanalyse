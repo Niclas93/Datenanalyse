{
 "cells": [
  {
   "cell_type": "code",
   "execution_count": 5,
   "metadata": {
    "pycharm": {
     "name": "#%%\n"
    }
   },
   "outputs": [],
   "source": [
    "from taxii2client.v20 import Server, Collection\n",
    "from pymongo import MongoClient\n",
    "import datetime\n",
    "from stix2 import parse\n",
    "import matplotlib.pyplot as plt\n",
    "import networkx as nx\n",
    "from matplotlib.pyplot import figure\n",
    "from pyvis.network import Network\n",
    "import plotly.graph_objs as go\n",
    "from plotly.offline import plot\n",
    "import nbformat\n",
    "#!pip install pyvis plotly"
   ]
  },
  {
   "cell_type": "code",
   "execution_count": 6,
   "metadata": {},
   "outputs": [],
   "source": [
    "mongo_client = MongoClient('localhost', 27017)\n",
    "db = mongo_client.stix_database\n",
    "collection = db.stix_data\n",
    "G = nx.Graph()"
   ]
  },
  {
   "cell_type": "code",
   "execution_count": 7,
   "metadata": {},
   "outputs": [],
   "source": [
    "server_url = 'https://cti-taxii.mitre.org/taxii/'\n",
    "\n",
    "server = Server(server_url)\n",
    "\n",
    "api_root = server.api_roots[0]"
   ]
  },
  {
   "cell_type": "code",
   "execution_count": 80,
   "metadata": {},
   "outputs": [],
   "source": [
    "collection_id = '95ecc380-afe9-11e4-9b6c-751b66dd541e'\n",
    "\n",
    "taxii_collection = Collection(f\"{api_root.url}collections/{collection_id}/\")\n",
    "\n",
    "stix_objects = taxii_collection.get_objects()\n",
    "\n",
    "if stix_objects.get(\"objects\"):\n",
    "    for obj in stix_objects[\"objects\"]:\n",
    "        # Jedes STIX-Objekt wird anhand seiner ID aktualisiert oder, falls nicht vorhanden, eingefügt\n",
    "        collection.update_one({\"id\": obj[\"id\"]}, {\"$set\": obj}, upsert=True)\n"
   ]
  },
  {
   "cell_type": "code",
   "execution_count": null,
   "metadata": {},
   "outputs": [],
   "source": [
    "collection_id = '95ecc380-afe9-11e4-9b6c-751b66dd541e'  # Beispiel-Collection-ID\n",
    "collection = Collection(f\"{api_root.url}collections/{collection_id}/\")\n",
    "\n",
    "# STIX-Objekte aus der Collection abrufen\n",
    "stix_objects = collection.get_objects().get('objects', [])\n",
    "\n",
    "# Extraktion der Objekte und Beziehungen\n",
    "for obj in stix_objects:\n",
    "    if obj['type'] == 'relationship':\n",
    "        # Fügen Sie die Beziehung als Kante im Graphen hinzu\n",
    "        G.add_edge(obj['source_ref'], obj['target_ref'], label=obj['relationship_type'])\n",
    "    else:\n",
    "        # Fügen Sie das Objekt als Knoten im Graphen hinzu\n",
    "        G.add_node(obj['id'], label=obj.get('name', obj.get('type')))\n"
   ]
  },
  {
   "cell_type": "code",
   "execution_count": 31,
   "metadata": {
    "pycharm": {
     "name": "#%%\n"
    }
   },
   "outputs": [],
   "source": [
    "def analyze_types():\n",
    "    pipeline = [\n",
    "        {\"$group\": {\"_id\": \"$type\", \"count\": {\"$sum\": 1}}}\n",
    "    ]\n",
    "    return list(collection.aggregate(pipeline))\n",
    "    "
   ]
  },
  {
   "cell_type": "code",
   "execution_count": 32,
   "metadata": {
    "pycharm": {
     "name": "#%%\n"
    }
   },
   "outputs": [],
   "source": [
    "def visualize_data(data):\n",
    "    labels = [elem['_id'] for elem in data]\n",
    "    counts = [elem['count'] for elem in data]\n",
    "    \n",
    "    # Erstellen eines Balkendiagramms\n",
    "    plt.figure(figsize=(10, 6))\n",
    "    plt.bar(labels, counts)\n",
    "    plt.title('Anzahl der STIX-Objekte nach Typ')\n",
    "    plt.xlabel('STIX-Objekttyp')\n",
    "    plt.ylabel('Anzahl')\n",
    "    plt.xticks(rotation=45, ha='right')  # Drehen der X-Achsen-Beschriftung für bessere Lesbarkeit\n",
    "    plt.tight_layout()  # Sorgt für genügend Platz für die Beschriftung\n",
    "    plt.show()"
   ]
  },
  {
   "cell_type": "code",
   "execution_count": null,
   "metadata": {},
   "outputs": [],
   "source": [
    "type_data = analyze_types()\n",
    "visualize_data(type_data)"
   ]
  },
  {
   "cell_type": "code",
   "execution_count": 34,
   "metadata": {},
   "outputs": [],
   "source": [
    "def analyze_relationships():\n",
    "    pipeline = [\n",
    "        {\"$match\": {\"type\": \"relationship\"}},\n",
    "        {\"$group\": {\"_id\": \"$relationship_type\", \"count\": {\"$sum\": 1}}},\n",
    "        {\"$sort\": {\"count\": -1}}  # Sortieren nach der häufigsten Beziehung\n",
    "    ]\n",
    "    return list(collection.aggregate(pipeline))"
   ]
  },
  {
   "cell_type": "code",
   "execution_count": 35,
   "metadata": {},
   "outputs": [],
   "source": [
    "def visualize_relationships(data):\n",
    "    # Beschränken auf die Top N Beziehungen\n",
    "    top_relationships = data[:10]  # Nehmen Sie die Top 10 Beziehungstypen\n",
    "\n",
    "    labels = [elem['_id'] for elem in top_relationships]\n",
    "    counts = [elem['count'] for elem in top_relationships]\n",
    "    \n",
    "    plt.figure(figsize=(12, 6))\n",
    "    plt.barh(labels, counts, color='skyblue')  # horizontales Balkendiagramm\n",
    "    plt.title('Top 10 Beziehungstypen in STIX-Daten')\n",
    "    plt.xlabel('Anzahl der Beziehungen')\n",
    "    plt.ylabel('Beziehungstyp')\n",
    "    plt.gca().invert_yaxis()  # Invertieren der Y-Achse, damit die höchsten Werte oben sind\n",
    "    plt.tight_layout()\n",
    "    plt.show()"
   ]
  },
  {
   "cell_type": "code",
   "execution_count": null,
   "metadata": {},
   "outputs": [],
   "source": [
    "relationship_data = analyze_relationships()\n",
    "visualize_relationships(relationship_data)"
   ]
  },
  {
   "cell_type": "code",
   "execution_count": null,
   "metadata": {},
   "outputs": [],
   "source": [
    "\n",
    "pos = nx.spring_layout(G)\n",
    "\n",
    "# Knoten und Kanten für Plotly extrahieren\n",
    "edge_x = []\n",
    "edge_y = []\n",
    "for edge in G.edges():\n",
    "    x0, y0 = pos[edge[0]]\n",
    "    x1, y1 = pos[edge[1]]\n",
    "    edge_x.append(x0)\n",
    "    edge_x.append(x1)\n",
    "    edge_x.append(None)\n",
    "    edge_y.append(y0)\n",
    "    edge_y.append(y1)\n",
    "    edge_y.append(None)\n",
    "\n",
    "edge_trace = go.Scatter(\n",
    "    x=edge_x, y=edge_y,\n",
    "    line=dict(width=0.5, color='#888'),\n",
    "    hoverinfo='none',\n",
    "    mode='lines')\n",
    "\n",
    "node_x = []\n",
    "node_y = []\n",
    "text = []\n",
    "for node in G.nodes():\n",
    "    x, y = pos[node]\n",
    "    node_x.append(x)\n",
    "    node_y.append(y)\n",
    "    text.append(node)\n",
    "\n",
    "node_trace = go.Scatter(\n",
    "    x=node_x, y=node_y,\n",
    "    mode='markers+text',\n",
    "    hoverinfo='text',\n",
    "    text=text,\n",
    "    textposition=\"bottom center\",\n",
    "    marker=dict(\n",
    "        showscale=True,\n",
    "        colorscale='YlGnBu',\n",
    "        size=10,\n",
    "        line_width=2))\n",
    "\n",
    "# Graph erstellen\n",
    "fig = go.Figure(data=[edge_trace, node_trace],\n",
    "             layout=go.Layout(\n",
    "                title='<br>Knowledge Graph mit Plotly',\n",
    "                titlefont_size=16,\n",
    "                showlegend=False,\n",
    "                hovermode='closest',\n",
    "                margin=dict(b=20,l=5,r=5,t=40),\n",
    "                annotations=[ dict(\n",
    "                    text=\"Python-Graphen-Visualisierung\",\n",
    "                    showarrow=False,\n",
    "                    xref=\"paper\", yref=\"paper\",\n",
    "                    x=0.005, y=-0.002 ) ],\n",
    "                xaxis=dict(showgrid=False, zeroline=False, showticklabels=False),\n",
    "                yaxis=dict(showgrid=False, zeroline=False, showticklabels=False))\n",
    "                )\n",
    "\n",
    "# Visualisierung\n",
    "fig.show()"
   ]
  },
  {
   "cell_type": "code",
   "execution_count": null,
   "metadata": {},
   "outputs": [],
   "source": []
  }
 ],
 "metadata": {
  "kernelspec": {
   "display_name": "Python 3 (ipykernel)",
   "language": "python",
   "name": "python3"
  },
  "language_info": {
   "codemirror_mode": {
    "name": "ipython",
    "version": 3
   },
   "file_extension": ".py",
   "mimetype": "text/x-python",
   "name": "python",
   "nbconvert_exporter": "python",
   "pygments_lexer": "ipython3",
   "version": "3.11.1"
  }
 },
 "nbformat": 4,
 "nbformat_minor": 1
}
